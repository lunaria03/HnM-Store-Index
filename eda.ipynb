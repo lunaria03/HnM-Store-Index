{
 "cells": [
  {
   "cell_type": "code",
   "execution_count": null,
   "metadata": {},
   "outputs": [],
   "source": [
    "import pandas as pd\n",
    "import matplotlib.pyplot as plt\n",
    "import seaborn as sns\n",
    "from datetime import datetime, timedelta"
   ]
  },
  {
   "cell_type": "code",
   "execution_count": null,
   "metadata": {},
   "outputs": [],
   "source": [
    "df = pd.read_csv('C:/Intern/HnM/HM_all_stores.csv')"
   ]
  },
  {
   "cell_type": "code",
   "execution_count": null,
   "metadata": {},
   "outputs": [],
   "source": [
    "df.sample(5)"
   ]
  },
  {
   "cell_type": "code",
   "execution_count": null,
   "metadata": {},
   "outputs": [],
   "source": [
    "df.shape"
   ]
  },
  {
   "cell_type": "code",
   "execution_count": null,
   "metadata": {},
   "outputs": [],
   "source": [
    "df.info()"
   ]
  },
  {
   "cell_type": "code",
   "execution_count": null,
   "metadata": {},
   "outputs": [],
   "source": [
    "df = df.drop(columns=['name', 'phone',\n",
    "       'countryCode', 'timeZoneIndex','streetName1',\n",
    "       'streetName2', 'address_string', 'state'])"
   ]
  },
  {
   "cell_type": "code",
   "execution_count": null,
   "metadata": {},
   "outputs": [],
   "source": [
    "print(\"Total duplicate: \", df.duplicated().sum())"
   ]
  },
  {
   "cell_type": "code",
   "execution_count": null,
   "metadata": {},
   "outputs": [],
   "source": [
    "df = df.drop_duplicates()\n",
    "print(\"Total duplicate: \", df.duplicated().sum())"
   ]
  },
  {
   "cell_type": "code",
   "execution_count": null,
   "metadata": {},
   "outputs": [],
   "source": [
    "df.isna().sum().sort_values(ascending = False)"
   ]
  },
  {
   "cell_type": "code",
   "execution_count": null,
   "metadata": {},
   "outputs": [],
   "source": [
    "df[['Sun_open_hours', 'Mon_open_hours', 'Tue_open_hours', 'Wed_open_hours', \n",
    "    'Thu_open_hours', 'Fri_open_hours', 'Sat_open_hours']] = df[['Sun_open_hours', 'Mon_open_hours', 'Tue_open_hours', 'Wed_open_hours', \n",
    "    'Thu_open_hours', 'Fri_open_hours', 'Sat_open_hours']].fillna(0)\n",
    "\n",
    "df['storeClass'].fillna('Unknown', inplace=True)"
   ]
  },
  {
   "cell_type": "code",
   "execution_count": null,
   "metadata": {},
   "outputs": [],
   "source": [
    "df.sample(5)"
   ]
  },
  {
   "cell_type": "code",
   "execution_count": null,
   "metadata": {},
   "outputs": [],
   "source": [
    "df['Sunday'] = df['Sun_open_hours'].apply(lambda x: 'Closed' if x==0 else 'Open')"
   ]
  },
  {
   "cell_type": "code",
   "execution_count": null,
   "metadata": {},
   "outputs": [],
   "source": [
    "columns = ['Sun_open_hours', 'Mon_open_hours', 'Tue_open_hours', 'Wed_open_hours', \n",
    "           'Thu_open_hours', 'Fri_open_hours', 'Sat_open_hours']\n",
    "\n",
    "def split_and_convert(time_str):\n",
    "    if time_str == 'Closed' or time_str == '0':\n",
    "        return pd.NA, pd.NA  \n",
    "    try:\n",
    "        # Split the time range into opening and closing times\n",
    "        open_time, close_time = time_str.split('-')\n",
    "        # Convert to datetime objects with a fixed date\n",
    "        open_time = datetime.strptime(open_time, '%H:%M').time()\n",
    "        close_time = datetime.strptime(close_time, '%H:%M').time()\n",
    "        return open_time, close_time\n",
    "    except (ValueError, AttributeError):\n",
    "        # Return missing values if conversion fails\n",
    "        return pd.NA, pd.NA\n",
    "\n",
    "for col in columns:\n",
    "    df[[f'{col}_open', f'{col}_close']] = df[col].apply(split_and_convert).apply(pd.Series)\n",
    "\n",
    "\n",
    "def calculate_duration(open_time, close_time):\n",
    "    if pd.isna(open_time) or pd.isna(close_time):\n",
    "        return 0\n",
    "    \n",
    "    today = datetime.today().date()\n",
    "    open_datetime = datetime.combine(today, open_time)\n",
    "    close_datetime = datetime.combine(today, close_time)\n",
    "    \n",
    "    if close_datetime < open_datetime:\n",
    "        close_datetime += timedelta(days=1)\n",
    "    duration = close_datetime - open_datetime\n",
    "    return duration.seconds / 3600\n",
    "\n",
    "\n",
    "for col in columns:\n",
    "    df[f'{col}_duration'] = df.apply(\n",
    "        lambda row: calculate_duration(row[f'{col}_open'], row[f'{col}_close']),\n",
    "        axis=1\n",
    "    )\n",
    "\n",
    "\n",
    "df.drop(columns=[col for col in columns for col in [f'{col}_open', f'{col}_close']], inplace=True)\n"
   ]
  },
  {
   "cell_type": "code",
   "execution_count": null,
   "metadata": {},
   "outputs": [],
   "source": [
    "df.sample(5)"
   ]
  },
  {
   "cell_type": "code",
   "execution_count": null,
   "metadata": {},
   "outputs": [],
   "source": [
    "df['mean_duration_per_week'] = df[['Sun_open_hours_duration', 'Mon_open_hours_duration', 'Tue_open_hours_duration', \n",
    "                          'Wed_open_hours_duration', 'Thu_open_hours_duration', 'Fri_open_hours_duration', \n",
    "                          'Sat_open_hours_duration']].mean(axis=1)\n",
    "\n",
    "df = df.drop(columns=['Sun_open_hours_duration', 'Mon_open_hours_duration', 'Tue_open_hours_duration', \n",
    "                      'Wed_open_hours_duration', 'Thu_open_hours_duration', 'Fri_open_hours_duration', \n",
    "                      'Sat_open_hours_duration'])"
   ]
  },
  {
   "cell_type": "code",
   "execution_count": null,
   "metadata": {},
   "outputs": [],
   "source": [
    "df[\"mean_duration_per_week\"] = df[\"mean_duration_per_week\"].astype(int)"
   ]
  },
  {
   "cell_type": "code",
   "execution_count": null,
   "metadata": {},
   "outputs": [],
   "source": [
    "df.info()"
   ]
  },
  {
   "cell_type": "code",
   "execution_count": null,
   "metadata": {},
   "outputs": [],
   "source": [
    "df.to_csv('HnM_Clean.csv')"
   ]
  }
 ],
 "metadata": {
  "kernelspec": {
   "display_name": "Python 3",
   "language": "python",
   "name": "python3"
  },
  "language_info": {
   "codemirror_mode": {
    "name": "ipython",
    "version": 3
   },
   "file_extension": ".py",
   "mimetype": "text/x-python",
   "name": "python",
   "nbconvert_exporter": "python",
   "pygments_lexer": "ipython3",
   "version": "3.10.11"
  }
 },
 "nbformat": 4,
 "nbformat_minor": 2
}
